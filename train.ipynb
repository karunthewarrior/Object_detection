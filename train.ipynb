{
 "cells": [
  {
   "cell_type": "code",
   "execution_count": null,
   "metadata": {},
   "outputs": [],
   "source": [
    "import cv2\n",
    "import numpy as np\n",
    "from os import listdir\n",
    "from os.path import isfile, join\n",
    "import pickle\n",
    "import torch\n",
    "import torchvision\n",
    "import torchvision.transforms as transforms\n",
    "from torch.autograd import Variable\n",
    "import torch.nn as nn\n",
    "import dataloader as dl"
   ]
  },
  {
   "cell_type": "code",
   "execution_count": 3,
   "metadata": {},
   "outputs": [],
   "source": [
    "train = dl.MyDataset(root_dir = \"./\",transform=transforms.Compose([transforms.ToTensor()]))\n",
    "trainloader = torch.utils.data.DataLoader(train, batch_size=4,\n",
    "                                      shuffle=True, num_workers=2)"
   ]
  },
  {
   "cell_type": "code",
   "execution_count": 20,
   "metadata": {},
   "outputs": [],
   "source": [
    "class detector(nn.Module):\n",
    "    def __init__(self):\n",
    "        super(detector, self).__init__()\n",
    "        self.conv1 = nn.Sequential(\n",
    "            nn.Conv2d(3, 16, 3, stride=1, padding=1),  \n",
    "            nn.ReLU(True),\n",
    "            nn.Conv2d(16, 16, 3, stride=1, padding=1),  \n",
    "            nn.ReLU(True)\n",
    "        )\n",
    "        self.pool1 = nn.MaxPool2d(2, stride=2)  \n",
    "    \n",
    "        self.conv2 = nn.Sequential(\n",
    "            nn.Conv2d(16, 32, 3, stride=1, padding=1),  \n",
    "            nn.ReLU(True),\n",
    "            nn.Conv2d(32, 32, 3, stride=1, padding=1),  \n",
    "            nn.ReLU(True)\n",
    "        )\n",
    "        \n",
    "        self.conv3 = nn.Sequential(\n",
    "            nn.Conv2d(32, 64, 3, stride=1, padding=1),  \n",
    "            nn.ReLU(True),\n",
    "            nn.Conv2d(64, 64, 3, stride=1, padding=1),  \n",
    "            nn.ReLU(True)\n",
    "        )\n",
    "        self.pool2 = nn.MaxPool2d(4,stride=4)\n",
    "        \n",
    "        self.conv4 = nn.Sequential(\n",
    "            nn.Conv2d(64,64,(7, 9),stride=1),\n",
    "            nn.ReLU(True),\n",
    "            nn.Conv2d(64,6,1,stride=1),\n",
    "            nn.ReLU(True)\n",
    "        )\n",
    "    \n",
    "    def forward(self, x):\n",
    "        x = self.conv1(x)\n",
    "        x = self.pool1(x)\n",
    "        x = self.conv2(x)\n",
    "        x = self.pool1(x)  \n",
    "        x = self.conv3(x)\n",
    "        x = self.pool2(x)\n",
    "        x = self.conv4(x)\n",
    "        return x\n",
    "    \n",
    "model = detector().cuda(1)\n",
    "def compute_loss(output,label):\n",
    "    label = label.float()\n",
    "    l_coord = 5\n",
    "    l_nobj = 0.5\n",
    "    sw_obj = label[:,0,:,:]\n",
    "    sw_nobj = (label[:,0,:,:]==0).float()\n",
    "    \n",
    "    pred_loss_obj = torch.sum(nn.MSELoss(reduce=False)(output[:,0,:,:],label[:,0,:,:])*sw_obj)\n",
    "    pred_loss_nobj = l_nobj*torch.sum(nn.MSELoss(reduce=False)(output[:,0,:,:],label[:,0,:,:])*sw_nobj)\n",
    "    box_xy_loss = l_coord*torch.sum(nn.MSELoss(reduce=False)(output[:,1:3,:,:],label[:,1:3,:,:])*sw_obj)\n",
    "    box_hw_loss = l_coord*torch.sum(nn.MSELoss(reduce=False)(torch.sqrt(output[:,3:5,:,:]),torch.sqrt(label[:,3:5,:,:]))*sw_obj)\n",
    "    class_loss = torch.sum(nn.MSELoss(reduce=False)(output[:,5,:,:],label[:,5,:,:])*sw_obj)\n",
    "    loss = pred_loss_obj + pred_loss_nobj + box_xy_loss + box_hw_loss + class_loss\n",
    "    return loss\n",
    "\n",
    "optimizer = torch.optim.Adam(model.parameters(), lr=0.01,\n",
    "                             weight_decay=1e-5)"
   ]
  },
  {
   "cell_type": "code",
   "execution_count": 5,
   "metadata": {},
   "outputs": [
    {
     "name": "stderr",
     "output_type": "stream",
     "text": [
      "/usr/local/lib/python2.7/dist-packages/ipykernel_launcher.py:35: UserWarning: Implicit dimension choice for log_softmax has been deprecated. Change the call to include dim=X as an argument.\n",
      "/usr/local/lib/python2.7/dist-packages/ipykernel_launcher.py:38: UserWarning: Implicit dimension choice for log_softmax has been deprecated. Change the call to include dim=X as an argument.\n"
     ]
    },
    {
     "name": "stdout",
     "output_type": "stream",
     "text": [
      "epoch [1/20], loss:271.8044\n",
      "epoch [2/20], loss:253.5497\n",
      "epoch [3/20], loss:201.0186\n",
      "epoch [4/20], loss:248.9474\n",
      "epoch [5/20], loss:143.0202\n",
      "epoch [6/20], loss:315.2001\n",
      "epoch [7/20], loss:115.5266\n",
      "epoch [8/20], loss:153.8384\n",
      "epoch [9/20], loss:95.4768\n",
      "epoch [10/20], loss:231.2339\n",
      "epoch [11/20], loss:240.8128\n",
      "epoch [12/20], loss:177.6854\n",
      "epoch [13/20], loss:139.4938\n",
      "epoch [14/20], loss:172.2450\n",
      "epoch [15/20], loss:256.7700\n",
      "epoch [16/20], loss:234.8800\n",
      "epoch [17/20], loss:276.9067\n",
      "epoch [18/20], loss:199.3510\n",
      "epoch [19/20], loss:176.0418\n",
      "epoch [20/20], loss:226.4730\n",
      "epoch [21/20], loss:316.9384\n",
      "epoch [22/20], loss:185.9048\n"
     ]
    },
    {
     "name": "stderr",
     "output_type": "stream",
     "text": [
      "Process Process-46:\n",
      "Traceback (most recent call last):\n",
      "  File \"/usr/lib/python2.7/multiprocessing/process.py\", line 258, in _bootstrap\n",
      "    self.run()\n",
      "  File \"/usr/lib/python2.7/multiprocessing/process.py\", line 114, in run\n",
      "    self._target(*self._args, **self._kwargs)\n",
      "  File \"/usr/local/lib/python2.7/dist-packages/torch/utils/data/dataloader.py\", line 42, in _worker_loop\n",
      "    samples = collate_fn([dataset[i] for i in batch_indices])\n",
      "  File \"dataloader.py\", line 27, in __getitem__\n",
      "    image = cv2.imread(self.img_path + self.image_list[idx])\n",
      "KeyboardInterrupt\n",
      "Process Process-45:\n",
      "Traceback (most recent call last):\n",
      "  File \"/usr/lib/python2.7/multiprocessing/process.py\", line 258, in _bootstrap\n",
      "    self.run()\n",
      "  File \"/usr/lib/python2.7/multiprocessing/process.py\", line 114, in run\n",
      "    self._target(*self._args, **self._kwargs)\n",
      "  File \"/usr/local/lib/python2.7/dist-packages/torch/utils/data/dataloader.py\", line 36, in _worker_loop\n",
      "    r = index_queue.get()\n",
      "  File \"/usr/lib/python2.7/multiprocessing/queues.py\", line 378, in get\n",
      "    return recv()\n",
      "  File \"/usr/local/lib/python2.7/dist-packages/torch/multiprocessing/queue.py\", line 21, in recv\n",
      "    buf = self.recv_bytes()\n",
      "KeyboardInterrupt\n"
     ]
    },
    {
     "ename": "KeyboardInterrupt",
     "evalue": "",
     "output_type": "error",
     "traceback": [
      "\u001b[0;31m\u001b[0m",
      "\u001b[0;31mKeyboardInterrupt\u001b[0mTraceback (most recent call last)",
      "\u001b[0;32m<ipython-input-5-e04f4140f23f>\u001b[0m in \u001b[0;36m<module>\u001b[0;34m()\u001b[0m\n\u001b[1;32m      3\u001b[0m     \u001b[0;32mfor\u001b[0m \u001b[0mdata\u001b[0m \u001b[0;32min\u001b[0m \u001b[0mtrainloader\u001b[0m\u001b[0;34m:\u001b[0m\u001b[0;34m\u001b[0m\u001b[0m\n\u001b[1;32m      4\u001b[0m         \u001b[0mimg\u001b[0m\u001b[0;34m,\u001b[0m \u001b[0mlabel\u001b[0m \u001b[0;34m=\u001b[0m \u001b[0mdata\u001b[0m\u001b[0;34m\u001b[0m\u001b[0m\n\u001b[0;32m----> 5\u001b[0;31m         \u001b[0mimg\u001b[0m \u001b[0;34m=\u001b[0m \u001b[0mVariable\u001b[0m\u001b[0;34m(\u001b[0m\u001b[0mimg\u001b[0m\u001b[0;34m)\u001b[0m\u001b[0;34m.\u001b[0m\u001b[0mcuda\u001b[0m\u001b[0;34m(\u001b[0m\u001b[0;36m1\u001b[0m\u001b[0;34m)\u001b[0m\u001b[0;34m\u001b[0m\u001b[0m\n\u001b[0m\u001b[1;32m      6\u001b[0m         \u001b[0mlabel\u001b[0m \u001b[0;34m=\u001b[0m \u001b[0mVariable\u001b[0m\u001b[0;34m(\u001b[0m\u001b[0mlabel\u001b[0m\u001b[0;34m)\u001b[0m\u001b[0;34m.\u001b[0m\u001b[0mcuda\u001b[0m\u001b[0;34m(\u001b[0m\u001b[0;36m1\u001b[0m\u001b[0;34m)\u001b[0m\u001b[0;34m\u001b[0m\u001b[0m\n\u001b[1;32m      7\u001b[0m \u001b[0;34m\u001b[0m\u001b[0m\n",
      "\u001b[0;32m/usr/local/lib/python2.7/dist-packages/torch/autograd/variable.pyc\u001b[0m in \u001b[0;36mcuda\u001b[0;34m(self, device, async)\u001b[0m\n\u001b[1;32m    296\u001b[0m \u001b[0;34m\u001b[0m\u001b[0m\n\u001b[1;32m    297\u001b[0m     \u001b[0;32mdef\u001b[0m \u001b[0mcuda\u001b[0m\u001b[0;34m(\u001b[0m\u001b[0mself\u001b[0m\u001b[0;34m,\u001b[0m \u001b[0mdevice\u001b[0m\u001b[0;34m=\u001b[0m\u001b[0mNone\u001b[0m\u001b[0;34m,\u001b[0m \u001b[0masync\u001b[0m\u001b[0;34m=\u001b[0m\u001b[0mFalse\u001b[0m\u001b[0;34m)\u001b[0m\u001b[0;34m:\u001b[0m\u001b[0;34m\u001b[0m\u001b[0m\n\u001b[0;32m--> 298\u001b[0;31m         \u001b[0;32mreturn\u001b[0m \u001b[0mCudaTransfer\u001b[0m\u001b[0;34m.\u001b[0m\u001b[0mapply\u001b[0m\u001b[0;34m(\u001b[0m\u001b[0mself\u001b[0m\u001b[0;34m,\u001b[0m \u001b[0mdevice\u001b[0m\u001b[0;34m,\u001b[0m \u001b[0masync\u001b[0m\u001b[0;34m)\u001b[0m\u001b[0;34m\u001b[0m\u001b[0m\n\u001b[0m\u001b[1;32m    299\u001b[0m \u001b[0;34m\u001b[0m\u001b[0m\n\u001b[1;32m    300\u001b[0m     \u001b[0;32mdef\u001b[0m \u001b[0mcpu\u001b[0m\u001b[0;34m(\u001b[0m\u001b[0mself\u001b[0m\u001b[0;34m)\u001b[0m\u001b[0;34m:\u001b[0m\u001b[0;34m\u001b[0m\u001b[0m\n",
      "\u001b[0;32m/usr/local/lib/python2.7/dist-packages/torch/autograd/_functions/tensor.pyc\u001b[0m in \u001b[0;36mforward\u001b[0;34m(ctx, i, device, async)\u001b[0m\n\u001b[1;32m    197\u001b[0m         \u001b[0mctx\u001b[0m\u001b[0;34m.\u001b[0m\u001b[0msource_was_cuda\u001b[0m \u001b[0;34m=\u001b[0m \u001b[0mi\u001b[0m\u001b[0;34m.\u001b[0m\u001b[0mis_cuda\u001b[0m\u001b[0;34m\u001b[0m\u001b[0m\n\u001b[1;32m    198\u001b[0m         \u001b[0;32mif\u001b[0m \u001b[0mdevice\u001b[0m \u001b[0;32mis\u001b[0m \u001b[0;32mnot\u001b[0m \u001b[0mNone\u001b[0m\u001b[0;34m:\u001b[0m\u001b[0;34m\u001b[0m\u001b[0m\n\u001b[0;32m--> 199\u001b[0;31m             \u001b[0;32mreturn\u001b[0m \u001b[0mi\u001b[0m\u001b[0;34m.\u001b[0m\u001b[0mcuda\u001b[0m\u001b[0;34m(\u001b[0m\u001b[0mdevice\u001b[0m\u001b[0;34m,\u001b[0m \u001b[0masync\u001b[0m\u001b[0;34m=\u001b[0m\u001b[0masync\u001b[0m\u001b[0;34m)\u001b[0m\u001b[0;34m\u001b[0m\u001b[0m\n\u001b[0m\u001b[1;32m    200\u001b[0m         \u001b[0;32melse\u001b[0m\u001b[0;34m:\u001b[0m\u001b[0;34m\u001b[0m\u001b[0m\n\u001b[1;32m    201\u001b[0m             \u001b[0;32mreturn\u001b[0m \u001b[0mi\u001b[0m\u001b[0;34m.\u001b[0m\u001b[0mcuda\u001b[0m\u001b[0;34m(\u001b[0m\u001b[0masync\u001b[0m\u001b[0;34m=\u001b[0m\u001b[0masync\u001b[0m\u001b[0;34m)\u001b[0m\u001b[0;34m\u001b[0m\u001b[0m\n",
      "\u001b[0;32m/usr/local/lib/python2.7/dist-packages/torch/_utils.pyc\u001b[0m in \u001b[0;36m_cuda\u001b[0;34m(self, device, async)\u001b[0m\n\u001b[1;32m     67\u001b[0m         \u001b[0;32melse\u001b[0m\u001b[0;34m:\u001b[0m\u001b[0;34m\u001b[0m\u001b[0m\n\u001b[1;32m     68\u001b[0m             \u001b[0mnew_type\u001b[0m \u001b[0;34m=\u001b[0m \u001b[0mgetattr\u001b[0m\u001b[0;34m(\u001b[0m\u001b[0mtorch\u001b[0m\u001b[0;34m.\u001b[0m\u001b[0mcuda\u001b[0m\u001b[0;34m,\u001b[0m \u001b[0mself\u001b[0m\u001b[0;34m.\u001b[0m\u001b[0m__class__\u001b[0m\u001b[0;34m.\u001b[0m\u001b[0m__name__\u001b[0m\u001b[0;34m)\u001b[0m\u001b[0;34m\u001b[0m\u001b[0m\n\u001b[0;32m---> 69\u001b[0;31m             \u001b[0;32mreturn\u001b[0m \u001b[0mnew_type\u001b[0m\u001b[0;34m(\u001b[0m\u001b[0mself\u001b[0m\u001b[0;34m.\u001b[0m\u001b[0msize\u001b[0m\u001b[0;34m(\u001b[0m\u001b[0;34m)\u001b[0m\u001b[0;34m)\u001b[0m\u001b[0;34m.\u001b[0m\u001b[0mcopy_\u001b[0m\u001b[0;34m(\u001b[0m\u001b[0mself\u001b[0m\u001b[0;34m,\u001b[0m \u001b[0masync\u001b[0m\u001b[0;34m)\u001b[0m\u001b[0;34m\u001b[0m\u001b[0m\n\u001b[0m\u001b[1;32m     70\u001b[0m \u001b[0;34m\u001b[0m\u001b[0m\n\u001b[1;32m     71\u001b[0m \u001b[0;34m\u001b[0m\u001b[0m\n",
      "\u001b[0;31mKeyboardInterrupt\u001b[0m: "
     ]
    }
   ],
   "source": [
    "num_epochs = 100\n",
    "for epoch in range(num_epochs):\n",
    "    for data in trainloader:\n",
    "        img, label = data\n",
    "        img = Variable(img).cuda(1)\n",
    "        label = Variable(label).cuda(1)\n",
    "\n",
    "        # ===================forward=====================\n",
    "        output = model(img)\n",
    "        loss = compute_loss(output, label)\n",
    "        # ===================backward====================\n",
    "        optimizer.zero_grad()\n",
    "        loss.backward()\n",
    "        optimizer.step()\n",
    "        # ===================log========================\n",
    "    print('epoch [{}/{}], loss:{:.4f}'\n",
    "      .format(epoch+1, 20, loss.data[0]))"
   ]
  },
  {
   "cell_type": "code",
   "execution_count": 45,
   "metadata": {},
   "outputs": [
    {
     "name": "stdout",
     "output_type": "stream",
     "text": [
      "torch.Size([4, 6, 24, 32])\n"
     ]
    },
    {
     "data": {
      "text/plain": [
       "\n",
       "(0 ,0 ,.,.) = \n",
       "  0.5000  0.5000  0.5000  ...   0.5000  0.5000  0.5000\n",
       "  0.5000  0.5000  0.5000  ...   0.5000  0.5000  0.5000\n",
       "  0.5000  0.5000  0.5000  ...   0.5000  0.5000  0.5000\n",
       "           ...             ⋱             ...          \n",
       "  0.5000  0.5000  0.5000  ...   0.5000  0.5000  0.5000\n",
       "  0.5000  0.5000  0.5000  ...   0.5000  0.5000  0.5000\n",
       "  0.5000  0.5000  0.5000  ...   0.5000  0.5000  0.5000\n",
       "     ⋮ \n",
       "\n",
       "(1 ,0 ,.,.) = \n",
       "  0.5000  0.5000  0.5000  ...   0.5000  0.5000  0.5000\n",
       "  0.5000  0.5000  0.5000  ...   0.5000  0.5000  0.5000\n",
       "  0.5000  0.5000  0.5000  ...   0.5000  0.5000  0.5000\n",
       "           ...             ⋱             ...          \n",
       "  0.5000  0.5000  0.5000  ...   0.5000  0.5000  0.5000\n",
       "  0.5000  0.5000  0.5000  ...   0.5000  0.5000  0.5000\n",
       "  0.5000  0.5000  0.5000  ...   0.5000  0.5000  0.5000\n",
       "     ⋮ \n",
       "\n",
       "(2 ,0 ,.,.) = \n",
       "  0.5000  0.5000  0.5000  ...   0.5000  0.5000  0.5000\n",
       "  0.5000  0.5000  0.5000  ...   0.5000  0.5000  0.5000\n",
       "  0.5000  0.5000  0.5000  ...   0.5000  0.5000  0.5000\n",
       "           ...             ⋱             ...          \n",
       "  0.5000  0.5000  0.5000  ...   0.5000  0.5000  0.5000\n",
       "  0.5000  0.5000  0.5000  ...   0.5000  0.5000  0.5000\n",
       "  0.5000  0.5000  0.5000  ...   0.5000  0.5000  0.5000\n",
       "     ⋮ \n",
       "\n",
       "(3 ,0 ,.,.) = \n",
       "  0.5000  0.5000  0.5000  ...   0.5000  0.5000  0.5000\n",
       "  0.5000  0.5000  0.5000  ...   0.5000  0.5000  0.5000\n",
       "  0.5000  0.5000  0.5000  ...   0.5000  0.5000  0.5000\n",
       "           ...             ⋱             ...          \n",
       "  0.5000  0.5000  0.5000  ...   0.5000  0.5000  0.5000\n",
       "  0.5000  0.5000  0.5000  ...   0.5000  0.5000  0.5000\n",
       "  0.5000  0.5000  0.5000  ...   0.5000  0.5000  0.5000\n",
       "[torch.FloatTensor of size 4x1x24x32]"
      ]
     },
     "execution_count": 45,
     "metadata": {},
     "output_type": "execute_result"
    }
   ],
   "source": []
  },
  {
   "cell_type": "code",
   "execution_count": null,
   "metadata": {},
   "outputs": [],
   "source": []
  }
 ],
 "metadata": {
  "kernelspec": {
   "display_name": "Python 2",
   "language": "python",
   "name": "python2"
  },
  "language_info": {
   "codemirror_mode": {
    "name": "ipython",
    "version": 2
   },
   "file_extension": ".py",
   "mimetype": "text/x-python",
   "name": "python",
   "nbconvert_exporter": "python",
   "pygments_lexer": "ipython2",
   "version": "2.7.12"
  }
 },
 "nbformat": 4,
 "nbformat_minor": 2
}
